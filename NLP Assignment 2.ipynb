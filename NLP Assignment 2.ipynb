{
 "cells": [
  {
   "cell_type": "code",
   "execution_count": 1,
   "metadata": {},
   "outputs": [
    {
     "name": "stderr",
     "output_type": "stream",
     "text": [
      "[nltk_data] Downloading package punkt to\n",
      "[nltk_data]     C:\\Users\\manya\\AppData\\Roaming\\nltk_data...\n",
      "[nltk_data]   Package punkt is already up-to-date!\n",
      "[nltk_data] Downloading package stopwords to\n",
      "[nltk_data]     C:\\Users\\manya\\AppData\\Roaming\\nltk_data...\n",
      "[nltk_data]   Package stopwords is already up-to-date!\n"
     ]
    },
    {
     "data": {
      "text/plain": [
       "True"
      ]
     },
     "execution_count": 1,
     "metadata": {},
     "output_type": "execute_result"
    }
   ],
   "source": [
    "import pandas as pd\n",
    "import collections as c\n",
    "from collections import Counter\n",
    "import re\n",
    "import csv\n",
    "\n",
    "import nltk as nltk\n",
    "import nltk.corpus  \n",
    "from nltk.text import Text\n",
    "import sys\n",
    "from nltk.tokenize import word_tokenize\n",
    "nltk.download('punkt')\n",
    "nltk.download('stopwords')"
   ]
  },
  {
   "cell_type": "code",
   "execution_count": null,
   "metadata": {},
   "outputs": [],
   "source": [
    "\n"
   ]
  },
  {
   "cell_type": "code",
   "execution_count": 2,
   "metadata": {},
   "outputs": [],
   "source": [
    "df = pd.read_csv('Food_Inspections.csv')"
   ]
  },
  {
   "cell_type": "code",
   "execution_count": 3,
   "metadata": {},
   "outputs": [
    {
     "data": {
      "text/html": [
       "<div>\n",
       "<style scoped>\n",
       "    .dataframe tbody tr th:only-of-type {\n",
       "        vertical-align: middle;\n",
       "    }\n",
       "\n",
       "    .dataframe tbody tr th {\n",
       "        vertical-align: top;\n",
       "    }\n",
       "\n",
       "    .dataframe thead th {\n",
       "        text-align: right;\n",
       "    }\n",
       "</style>\n",
       "<table border=\"1\" class=\"dataframe\">\n",
       "  <thead>\n",
       "    <tr style=\"text-align: right;\">\n",
       "      <th></th>\n",
       "      <th>Inspection ID</th>\n",
       "      <th>DBA Name</th>\n",
       "      <th>AKA Name</th>\n",
       "      <th>License #</th>\n",
       "      <th>Facility Type</th>\n",
       "      <th>Risk</th>\n",
       "      <th>Address</th>\n",
       "      <th>City</th>\n",
       "      <th>State</th>\n",
       "      <th>Zip</th>\n",
       "      <th>Inspection Date</th>\n",
       "      <th>Inspection Type</th>\n",
       "      <th>Results</th>\n",
       "      <th>Violations</th>\n",
       "      <th>Latitude</th>\n",
       "      <th>Longitude</th>\n",
       "      <th>Location</th>\n",
       "    </tr>\n",
       "  </thead>\n",
       "  <tbody>\n",
       "    <tr>\n",
       "      <th>0</th>\n",
       "      <td>2484567</td>\n",
       "      <td>ROYALTY</td>\n",
       "      <td>ROYALTY</td>\n",
       "      <td>1306130.0</td>\n",
       "      <td>Restaurant</td>\n",
       "      <td>Risk 1 (High)</td>\n",
       "      <td>3810 W 63RD ST</td>\n",
       "      <td>CHICAGO</td>\n",
       "      <td>IL</td>\n",
       "      <td>60629.0</td>\n",
       "      <td>02/05/2021</td>\n",
       "      <td>Non-Inspection</td>\n",
       "      <td>No Entry</td>\n",
       "      <td>NaN</td>\n",
       "      <td>41.778837</td>\n",
       "      <td>-87.718361</td>\n",
       "      <td>(-87.71836138998039, 41.778836516734856)</td>\n",
       "    </tr>\n",
       "    <tr>\n",
       "      <th>1</th>\n",
       "      <td>2473041</td>\n",
       "      <td>ROSATI'S GRANT PARK</td>\n",
       "      <td>ROSATI'S</td>\n",
       "      <td>2762683.0</td>\n",
       "      <td>Restaurant</td>\n",
       "      <td>Risk 1 (High)</td>\n",
       "      <td>23 E ADAMS ST</td>\n",
       "      <td>CHICAGO</td>\n",
       "      <td>IL</td>\n",
       "      <td>60603.0</td>\n",
       "      <td>01/22/2021</td>\n",
       "      <td>License</td>\n",
       "      <td>Pass</td>\n",
       "      <td>NaN</td>\n",
       "      <td>41.879391</td>\n",
       "      <td>-87.626848</td>\n",
       "      <td>(-87.62684825563626, 41.879391313239694)</td>\n",
       "    </tr>\n",
       "    <tr>\n",
       "      <th>2</th>\n",
       "      <td>2463667</td>\n",
       "      <td>M &amp; M FOOD</td>\n",
       "      <td>M &amp; M FOOD</td>\n",
       "      <td>1193207.0</td>\n",
       "      <td>NaN</td>\n",
       "      <td>Risk 3 (Low)</td>\n",
       "      <td>7073 N WESTERN AVE</td>\n",
       "      <td>CHICAGO</td>\n",
       "      <td>IL</td>\n",
       "      <td>60645.0</td>\n",
       "      <td>12/11/2020</td>\n",
       "      <td>Canvass</td>\n",
       "      <td>Out of Business</td>\n",
       "      <td>NaN</td>\n",
       "      <td>42.010769</td>\n",
       "      <td>-87.690067</td>\n",
       "      <td>(-87.69006746560828, 42.01076851593425)</td>\n",
       "    </tr>\n",
       "    <tr>\n",
       "      <th>3</th>\n",
       "      <td>2457076</td>\n",
       "      <td>SUBWAY</td>\n",
       "      <td>SUBWAY</td>\n",
       "      <td>2411733.0</td>\n",
       "      <td>Restaurant</td>\n",
       "      <td>Risk 1 (High)</td>\n",
       "      <td>4406 S PULASKI RD</td>\n",
       "      <td>CHICAGO</td>\n",
       "      <td>IL</td>\n",
       "      <td>60632.0</td>\n",
       "      <td>11/27/2020</td>\n",
       "      <td>Canvass</td>\n",
       "      <td>Pass</td>\n",
       "      <td>NaN</td>\n",
       "      <td>41.813101</td>\n",
       "      <td>-87.723928</td>\n",
       "      <td>(-87.72392832288558, 41.81310105112748)</td>\n",
       "    </tr>\n",
       "    <tr>\n",
       "      <th>4</th>\n",
       "      <td>2456274</td>\n",
       "      <td>TRATTORIA ULTIMO</td>\n",
       "      <td>TRATTORIA ULTIMO</td>\n",
       "      <td>2069755.0</td>\n",
       "      <td>Restaurant</td>\n",
       "      <td>Risk 1 (High)</td>\n",
       "      <td>1953 W CHICAGO AVE</td>\n",
       "      <td>CHICAGO</td>\n",
       "      <td>IL</td>\n",
       "      <td>60622.0</td>\n",
       "      <td>11/05/2020</td>\n",
       "      <td>Canvass</td>\n",
       "      <td>Out of Business</td>\n",
       "      <td>NaN</td>\n",
       "      <td>41.895808</td>\n",
       "      <td>-87.676752</td>\n",
       "      <td>(-87.67675213462381, 41.89580774819584)</td>\n",
       "    </tr>\n",
       "  </tbody>\n",
       "</table>\n",
       "</div>"
      ],
      "text/plain": [
       "   Inspection ID             DBA Name          AKA Name  License #  \\\n",
       "0        2484567              ROYALTY           ROYALTY  1306130.0   \n",
       "1        2473041  ROSATI'S GRANT PARK          ROSATI'S  2762683.0   \n",
       "2        2463667           M & M FOOD        M & M FOOD  1193207.0   \n",
       "3        2457076               SUBWAY            SUBWAY  2411733.0   \n",
       "4        2456274     TRATTORIA ULTIMO  TRATTORIA ULTIMO  2069755.0   \n",
       "\n",
       "  Facility Type           Risk              Address     City State      Zip  \\\n",
       "0    Restaurant  Risk 1 (High)      3810 W 63RD ST   CHICAGO    IL  60629.0   \n",
       "1    Restaurant  Risk 1 (High)       23 E ADAMS ST   CHICAGO    IL  60603.0   \n",
       "2           NaN   Risk 3 (Low)  7073 N WESTERN AVE   CHICAGO    IL  60645.0   \n",
       "3    Restaurant  Risk 1 (High)   4406 S PULASKI RD   CHICAGO    IL  60632.0   \n",
       "4    Restaurant  Risk 1 (High)  1953 W CHICAGO AVE   CHICAGO    IL  60622.0   \n",
       "\n",
       "  Inspection Date Inspection Type          Results Violations   Latitude  \\\n",
       "0      02/05/2021  Non-Inspection         No Entry        NaN  41.778837   \n",
       "1      01/22/2021         License             Pass        NaN  41.879391   \n",
       "2      12/11/2020         Canvass  Out of Business        NaN  42.010769   \n",
       "3      11/27/2020         Canvass             Pass        NaN  41.813101   \n",
       "4      11/05/2020         Canvass  Out of Business        NaN  41.895808   \n",
       "\n",
       "   Longitude                                  Location  \n",
       "0 -87.718361  (-87.71836138998039, 41.778836516734856)  \n",
       "1 -87.626848  (-87.62684825563626, 41.879391313239694)  \n",
       "2 -87.690067   (-87.69006746560828, 42.01076851593425)  \n",
       "3 -87.723928   (-87.72392832288558, 41.81310105112748)  \n",
       "4 -87.676752   (-87.67675213462381, 41.89580774819584)  "
      ]
     },
     "execution_count": 3,
     "metadata": {},
     "output_type": "execute_result"
    }
   ],
   "source": [
    "df.head(5)"
   ]
  },
  {
   "cell_type": "code",
   "execution_count": 4,
   "metadata": {},
   "outputs": [],
   "source": [
    "Results = df['Results']"
   ]
  },
  {
   "cell_type": "code",
   "execution_count": 5,
   "metadata": {},
   "outputs": [
    {
     "data": {
      "text/plain": [
       "array(['No Entry', 'Pass', 'Out of Business', 'Not Ready', 'Fail',\n",
       "       'Pass w/ Conditions', 'Business Not Located'], dtype=object)"
      ]
     },
     "execution_count": 5,
     "metadata": {},
     "output_type": "execute_result"
    }
   ],
   "source": [
    "Results.unique()"
   ]
  },
  {
   "cell_type": "code",
   "execution_count": 6,
   "metadata": {},
   "outputs": [],
   "source": [
    "Fail = df[\"Results\"] == \"Fail\"\n",
    "Failed = df.loc[Fail]\n"
   ]
  },
  {
   "cell_type": "code",
   "execution_count": 7,
   "metadata": {},
   "outputs": [
    {
     "data": {
      "text/html": [
       "<div>\n",
       "<style scoped>\n",
       "    .dataframe tbody tr th:only-of-type {\n",
       "        vertical-align: middle;\n",
       "    }\n",
       "\n",
       "    .dataframe tbody tr th {\n",
       "        vertical-align: top;\n",
       "    }\n",
       "\n",
       "    .dataframe thead th {\n",
       "        text-align: right;\n",
       "    }\n",
       "</style>\n",
       "<table border=\"1\" class=\"dataframe\">\n",
       "  <thead>\n",
       "    <tr style=\"text-align: right;\">\n",
       "      <th></th>\n",
       "      <th>Inspection ID</th>\n",
       "      <th>DBA Name</th>\n",
       "      <th>AKA Name</th>\n",
       "      <th>License #</th>\n",
       "      <th>Facility Type</th>\n",
       "      <th>Risk</th>\n",
       "      <th>Address</th>\n",
       "      <th>City</th>\n",
       "      <th>State</th>\n",
       "      <th>Zip</th>\n",
       "      <th>Inspection Date</th>\n",
       "      <th>Inspection Type</th>\n",
       "      <th>Results</th>\n",
       "      <th>Violations</th>\n",
       "      <th>Latitude</th>\n",
       "      <th>Longitude</th>\n",
       "      <th>Location</th>\n",
       "    </tr>\n",
       "  </thead>\n",
       "  <tbody>\n",
       "    <tr>\n",
       "      <th>27</th>\n",
       "      <td>2373427</td>\n",
       "      <td>THE BUNKER</td>\n",
       "      <td>THE BUNKER</td>\n",
       "      <td>2718517.0</td>\n",
       "      <td>Restaurant</td>\n",
       "      <td>Risk 3 (Low)</td>\n",
       "      <td>1515 W MONROE ST</td>\n",
       "      <td>CHICAGO</td>\n",
       "      <td>IL</td>\n",
       "      <td>60607.0</td>\n",
       "      <td>06/09/2020</td>\n",
       "      <td>License</td>\n",
       "      <td>Fail</td>\n",
       "      <td>NaN</td>\n",
       "      <td>41.880086</td>\n",
       "      <td>-87.665054</td>\n",
       "      <td>(-87.66505441566734, 41.88008566659281)</td>\n",
       "    </tr>\n",
       "    <tr>\n",
       "      <th>35</th>\n",
       "      <td>2370354</td>\n",
       "      <td>SLIM'S</td>\n",
       "      <td>SLIM'S</td>\n",
       "      <td>2622236.0</td>\n",
       "      <td>Restaurant</td>\n",
       "      <td>Risk 1 (High)</td>\n",
       "      <td>2020 W MONTROSE AVE</td>\n",
       "      <td>CHICAGO</td>\n",
       "      <td>IL</td>\n",
       "      <td>60618.0</td>\n",
       "      <td>05/08/2020</td>\n",
       "      <td>Complaint</td>\n",
       "      <td>Fail</td>\n",
       "      <td>1. PERSON IN CHARGE PRESENT, DEMONSTRATES KNOW...</td>\n",
       "      <td>41.961556</td>\n",
       "      <td>-87.679862</td>\n",
       "      <td>(-87.67986227331792, 41.96155579127668)</td>\n",
       "    </tr>\n",
       "    <tr>\n",
       "      <th>41</th>\n",
       "      <td>2369855</td>\n",
       "      <td>Chicago Prep Master Tenant LLC</td>\n",
       "      <td>Chicago Prep Master Tenant</td>\n",
       "      <td>2723671.0</td>\n",
       "      <td>Shared Kitchen</td>\n",
       "      <td>Risk 1 (High)</td>\n",
       "      <td>5801 W Dickens AVE</td>\n",
       "      <td>CHICAGO</td>\n",
       "      <td>IL</td>\n",
       "      <td>60639.0</td>\n",
       "      <td>04/28/2020</td>\n",
       "      <td>License</td>\n",
       "      <td>Fail</td>\n",
       "      <td>3. MANAGEMENT, FOOD EMPLOYEE AND CONDITIONAL E...</td>\n",
       "      <td>41.917869</td>\n",
       "      <td>-87.770697</td>\n",
       "      <td>(-87.77069733431132, 41.91786924215764)</td>\n",
       "    </tr>\n",
       "    <tr>\n",
       "      <th>48</th>\n",
       "      <td>2369400</td>\n",
       "      <td>DSD DELI</td>\n",
       "      <td>DSD DELI</td>\n",
       "      <td>2626178.0</td>\n",
       "      <td>DELI/GROCERY</td>\n",
       "      <td>Risk 1 (High)</td>\n",
       "      <td>5205 N MILWAUKEE</td>\n",
       "      <td>CHICAGO</td>\n",
       "      <td>IL</td>\n",
       "      <td>60630.0</td>\n",
       "      <td>04/17/2020</td>\n",
       "      <td>License</td>\n",
       "      <td>Fail</td>\n",
       "      <td>3. MANAGEMENT, FOOD EMPLOYEE AND CONDITIONAL E...</td>\n",
       "      <td>41.974849</td>\n",
       "      <td>-87.766829</td>\n",
       "      <td>(-87.76682905043768, 41.97484853157327)</td>\n",
       "    </tr>\n",
       "    <tr>\n",
       "      <th>49</th>\n",
       "      <td>2369394</td>\n",
       "      <td>AMSTAR</td>\n",
       "      <td>AMSTAR</td>\n",
       "      <td>2152845.0</td>\n",
       "      <td>Grocery Store</td>\n",
       "      <td>Risk 2 (Medium)</td>\n",
       "      <td>8950-58 S ASHLAND AVE</td>\n",
       "      <td>CHICAGO</td>\n",
       "      <td>IL</td>\n",
       "      <td>60620.0</td>\n",
       "      <td>04/17/2020</td>\n",
       "      <td>Canvass Re-Inspection</td>\n",
       "      <td>Fail</td>\n",
       "      <td>2. CITY OF CHICAGO FOOD SERVICE SANITATION CER...</td>\n",
       "      <td>41.730593</td>\n",
       "      <td>-87.663058</td>\n",
       "      <td>(-87.66305762988213, 41.730593381254266)</td>\n",
       "    </tr>\n",
       "  </tbody>\n",
       "</table>\n",
       "</div>"
      ],
      "text/plain": [
       "    Inspection ID                        DBA Name                    AKA Name  \\\n",
       "27        2373427                      THE BUNKER                  THE BUNKER   \n",
       "35        2370354                          SLIM'S                      SLIM'S   \n",
       "41        2369855  Chicago Prep Master Tenant LLC  Chicago Prep Master Tenant   \n",
       "48        2369400                        DSD DELI                    DSD DELI   \n",
       "49        2369394                          AMSTAR                      AMSTAR   \n",
       "\n",
       "    License #   Facility Type             Risk                 Address  \\\n",
       "27  2718517.0      Restaurant     Risk 3 (Low)       1515 W MONROE ST    \n",
       "35  2622236.0      Restaurant    Risk 1 (High)    2020 W MONTROSE AVE    \n",
       "41  2723671.0  Shared Kitchen    Risk 1 (High)     5801 W Dickens AVE    \n",
       "48  2626178.0    DELI/GROCERY    Risk 1 (High)       5205 N MILWAUKEE    \n",
       "49  2152845.0   Grocery Store  Risk 2 (Medium)  8950-58 S ASHLAND AVE    \n",
       "\n",
       "       City State      Zip Inspection Date        Inspection Type Results  \\\n",
       "27  CHICAGO    IL  60607.0      06/09/2020                License    Fail   \n",
       "35  CHICAGO    IL  60618.0      05/08/2020              Complaint    Fail   \n",
       "41  CHICAGO    IL  60639.0      04/28/2020                License    Fail   \n",
       "48  CHICAGO    IL  60630.0      04/17/2020                License    Fail   \n",
       "49  CHICAGO    IL  60620.0      04/17/2020  Canvass Re-Inspection    Fail   \n",
       "\n",
       "                                           Violations   Latitude  Longitude  \\\n",
       "27                                                NaN  41.880086 -87.665054   \n",
       "35  1. PERSON IN CHARGE PRESENT, DEMONSTRATES KNOW...  41.961556 -87.679862   \n",
       "41  3. MANAGEMENT, FOOD EMPLOYEE AND CONDITIONAL E...  41.917869 -87.770697   \n",
       "48  3. MANAGEMENT, FOOD EMPLOYEE AND CONDITIONAL E...  41.974849 -87.766829   \n",
       "49  2. CITY OF CHICAGO FOOD SERVICE SANITATION CER...  41.730593 -87.663058   \n",
       "\n",
       "                                    Location  \n",
       "27   (-87.66505441566734, 41.88008566659281)  \n",
       "35   (-87.67986227331792, 41.96155579127668)  \n",
       "41   (-87.77069733431132, 41.91786924215764)  \n",
       "48   (-87.76682905043768, 41.97484853157327)  \n",
       "49  (-87.66305762988213, 41.730593381254266)  "
      ]
     },
     "execution_count": 7,
     "metadata": {},
     "output_type": "execute_result"
    }
   ],
   "source": [
    "Failed.head()"
   ]
  },
  {
   "cell_type": "code",
   "execution_count": 8,
   "metadata": {},
   "outputs": [],
   "source": [
    "Failed = Failed.dropna(subset=['Violations'])"
   ]
  },
  {
   "cell_type": "code",
   "execution_count": 9,
   "metadata": {},
   "outputs": [],
   "source": [
    "Failed = Failed[Failed['Violations'].astype(bool)] "
   ]
  },
  {
   "cell_type": "code",
   "execution_count": 10,
   "metadata": {},
   "outputs": [
    {
     "data": {
      "text/plain": [
       "35        False\n",
       "41        False\n",
       "48        False\n",
       "49        False\n",
       "59        False\n",
       "60        False\n",
       "64        False\n",
       "148       False\n",
       "153       False\n",
       "160       False\n",
       "164       False\n",
       "165       False\n",
       "166       False\n",
       "211       False\n",
       "217       False\n",
       "220       False\n",
       "242       False\n",
       "248       False\n",
       "259       False\n",
       "269       False\n",
       "299       False\n",
       "310       False\n",
       "312       False\n",
       "320       False\n",
       "321       False\n",
       "332       False\n",
       "334       False\n",
       "338       False\n",
       "342       False\n",
       "345       False\n",
       "          ...  \n",
       "218067    False\n",
       "218071    False\n",
       "218077    False\n",
       "218078    False\n",
       "218079    False\n",
       "218081    False\n",
       "218083    False\n",
       "218087    False\n",
       "218091    False\n",
       "218101    False\n",
       "218106    False\n",
       "218111    False\n",
       "218123    False\n",
       "218126    False\n",
       "218128    False\n",
       "218134    False\n",
       "218148    False\n",
       "218149    False\n",
       "218150    False\n",
       "218154    False\n",
       "218157    False\n",
       "218161    False\n",
       "218162    False\n",
       "218169    False\n",
       "218170    False\n",
       "218172    False\n",
       "218176    False\n",
       "218180    False\n",
       "218187    False\n",
       "218191    False\n",
       "Name: Violations, Length: 38873, dtype: bool"
      ]
     },
     "execution_count": 10,
     "metadata": {},
     "output_type": "execute_result"
    }
   ],
   "source": [
    "Failed['Violations'].isnull()\n"
   ]
  },
  {
   "cell_type": "code",
   "execution_count": 11,
   "metadata": {},
   "outputs": [],
   "source": [
    "violation_master_list = []\n",
    "f = lambda x: x['Violations'].split(\"|\")\n",
    "violation_list = Failed.apply(f, axis=1)"
   ]
  },
  {
   "cell_type": "code",
   "execution_count": 12,
   "metadata": {},
   "outputs": [],
   "source": [
    "flat_list = [item for sublist in violation_list for item in sublist]"
   ]
  },
  {
   "cell_type": "code",
   "execution_count": 13,
   "metadata": {},
   "outputs": [],
   "source": [
    "x = []\n",
    "pattern = r\"[0-9]+\\.(.*?)(?=Comments:)\"\n",
    "\n",
    "for i in flat_list:\n",
    "    result = re.findall(pattern,str(i)) #perform regex & identify/extract the violation code only\n",
    "    x.append(result)#append the violation code into violation_master_list\n"
   ]
  },
  {
   "cell_type": "code",
   "execution_count": 14,
   "metadata": {},
   "outputs": [],
   "source": [
    "#print(reg_list)"
   ]
  },
  {
   "cell_type": "code",
   "execution_count": 14,
   "metadata": {},
   "outputs": [],
   "source": [
    "#reg_list = map(str, x)\n",
    "reg_list = [str(i) for i in x]\n",
    "#reg_list"
   ]
  },
  {
   "cell_type": "code",
   "execution_count": null,
   "metadata": {},
   "outputs": [],
   "source": [
    "#reg_list = tuple(tuple(p) for p in x)\n",
    "\n",
    "#for p in x:\n",
    " #   reg_list = str(p) "
   ]
  },
  {
   "cell_type": "code",
   "execution_count": 15,
   "metadata": {},
   "outputs": [],
   "source": [
    "#words = nltk.tokenize.word_tokenize(reg_list)\n",
    "words = []\n",
    "\n",
    "for i in reg_list:\n",
    "    res = word_tokenize(i)\n",
    "    words.append(res)\n",
    "    \n"
   ]
  },
  {
   "cell_type": "code",
   "execution_count": 16,
   "metadata": {},
   "outputs": [],
   "source": [
    "#fdist = nltk.FreqDist(words)\n",
    "fdist = []\n",
    "\n",
    "for i in words:\n",
    "    res = nltk.FreqDist(i)\n",
    "    fdist.append(res)"
   ]
  },
  {
   "cell_type": "code",
   "execution_count": 17,
   "metadata": {},
   "outputs": [
    {
     "name": "stdout",
     "output_type": "stream",
     "text": [
      "[FreqDist({\"'\": 2, '[': 1, 'CITY': 1, 'OF': 1, 'CHICAGO': 1, 'FOOD': 1, 'SERVICE': 1, 'SANITATION': 1, 'CERTIFICATE': 1, '-': 1, ...}), FreqDist({\"'\": 2, ',': 2, 'EMPLOYEE': 2, 'AND': 2, '[': 1, 'MANAGEMENT': 1, 'FOOD': 1, 'CONDITIONAL': 1, ';': 1, 'KNOWLEDGE': 1, ...}), FreqDist({\"'\": 2, '[': 1, 'PROCEDURES': 1, 'FOR': 1, 'RESPONDING': 1, 'TO': 1, 'VOMITING': 1, 'AND': 1, 'DIARRHEAL': 1, 'EVENTS': 1, ...}), FreqDist({\"'\": 2, '[': 1, 'NO': 1, 'BARE': 1, 'HAND': 1, 'CONTACT': 1, 'WITH': 1, 'RTE': 1, 'FOOD': 1, 'OR': 1, ...}), FreqDist({\"'\": 2, '[': 1, 'ADEQUATE': 1, 'HANDWASHING': 1, 'SINKS': 1, 'PROPERLY': 1, 'SUPPLIED': 1, 'AND': 1, 'ACCESSIBLE': 1, '-': 1, ...}), FreqDist({\"'\": 2, '[': 1, 'FOOD': 1, 'SEPARATED': 1, 'AND': 1, 'PROTECTED': 1, '-': 1, ']': 1}), FreqDist({\"'\": 2, '[': 1, 'PROPER': 1, 'HOT': 1, 'HOLDING': 1, 'TEMPERATURES': 1, '-': 1, ']': 1}), FreqDist({\"'\": 2, '[': 1, 'PROPER': 1, 'DATE': 1, 'MARKING': 1, 'AND': 1, 'DISPOSITION': 1, '-': 1, ']': 1}), FreqDist({\"'\": 2, '[': 1, 'THERMOMETERS': 1, 'PROVIDED': 1, '&': 1, 'ACCURATE': 1, '-': 1, ']': 1})]\n"
     ]
    }
   ],
   "source": [
    "print(fdist[1:10])"
   ]
  },
  {
   "cell_type": "code",
   "execution_count": 18,
   "metadata": {},
   "outputs": [],
   "source": [
    "word_list = [item for sublist in fdist for item in sublist]"
   ]
  },
  {
   "cell_type": "code",
   "execution_count": 19,
   "metadata": {},
   "outputs": [
    {
     "data": {
      "text/plain": [
       "list"
      ]
     },
     "execution_count": 19,
     "metadata": {},
     "output_type": "execute_result"
    }
   ],
   "source": [
    "word_list[1:10]\n",
    "type(word_list)"
   ]
  },
  {
   "cell_type": "code",
   "execution_count": 45,
   "metadata": {},
   "outputs": [
    {
     "data": {
      "text/plain": [
       "[('[', 252655),\n",
       " (']', 252655),\n",
       " (\"'\", 252286),\n",
       " ('-', 252286),\n",
       " (',', 168300),\n",
       " ('AND', 119831),\n",
       " (':', 86802),\n",
       " ('MAINTAINED', 76294),\n",
       " ('FOOD', 71184),\n",
       " ('EQUIPMENT', 63367)]"
      ]
     },
     "execution_count": 45,
     "metadata": {},
     "output_type": "execute_result"
    }
   ],
   "source": [
    "#x1 = tuple(tuple(p) for p in x)\n",
    "RawTokens=Counter(word_list).most_common(10) \n",
    "RawTokens"
   ]
  },
  {
   "cell_type": "code",
   "execution_count": 59,
   "metadata": {},
   "outputs": [
    {
     "data": {
      "text/plain": [
       "0"
      ]
     },
     "execution_count": 59,
     "metadata": {},
     "output_type": "execute_result"
    }
   ],
   "source": [
    "import gc\n",
    "\n",
    "gc.collect()"
   ]
  },
  {
   "cell_type": "code",
   "execution_count": 22,
   "metadata": {},
   "outputs": [],
   "source": [
    "stopwords = set(nltk.corpus.stopwords.words('english'))\n",
    "words = [word for word in word_list if len(word) > 1]"
   ]
  },
  {
   "cell_type": "code",
   "execution_count": 23,
   "metadata": {},
   "outputs": [],
   "source": [
    "#words"
   ]
  },
  {
   "cell_type": "code",
   "execution_count": 24,
   "metadata": {},
   "outputs": [],
   "source": [
    "# Remove stopwords\n",
    "words = [word for word in words if word not in stopwords]\n",
    "\n",
    "#for word in words:\n",
    "    #if word not in stopwords:\n",
    "        #words.append(word)"
   ]
  },
  {
   "cell_type": "code",
   "execution_count": 25,
   "metadata": {},
   "outputs": [],
   "source": [
    "# Remove punctuation\n",
    "words = [word for word in words if word.isalpha()]\n",
    "\n",
    "#for word in words:\n",
    " #   if word.isalpha():\n",
    "  #      words.append(word)"
   ]
  },
  {
   "cell_type": "code",
   "execution_count": 26,
   "metadata": {},
   "outputs": [
    {
     "data": {
      "text/plain": [
       "['PERSON',\n",
       " 'IN',\n",
       " 'CHARGE',\n",
       " 'PRESENT',\n",
       " 'DEMONSTRATES',\n",
       " 'KNOWLEDGE',\n",
       " 'AND',\n",
       " 'PERFORMS',\n",
       " 'DUTIES',\n",
       " 'CITY',\n",
       " 'OF',\n",
       " 'CHICAGO',\n",
       " 'FOOD',\n",
       " 'SERVICE',\n",
       " 'SANITATION',\n",
       " 'CERTIFICATE',\n",
       " 'MANAGEMENT',\n",
       " 'FOOD',\n",
       " 'EMPLOYEE',\n",
       " 'AND',\n",
       " 'CONDITIONAL',\n",
       " 'KNOWLEDGE',\n",
       " 'RESPONSIBILITIES',\n",
       " 'REPORTING',\n",
       " 'PROCEDURES',\n",
       " 'FOR',\n",
       " 'RESPONDING',\n",
       " 'TO',\n",
       " 'VOMITING',\n",
       " 'AND',\n",
       " 'DIARRHEAL',\n",
       " 'EVENTS',\n",
       " 'NO',\n",
       " 'BARE',\n",
       " 'HAND',\n",
       " 'CONTACT',\n",
       " 'WITH',\n",
       " 'RTE',\n",
       " 'FOOD',\n",
       " 'OR',\n",
       " 'ALTERNATIVE',\n",
       " 'PROCEDURE',\n",
       " 'PROPERLY',\n",
       " 'ALLOWED',\n",
       " 'ADEQUATE',\n",
       " 'HANDWASHING',\n",
       " 'SINKS',\n",
       " 'PROPERLY',\n",
       " 'SUPPLIED',\n",
       " 'AND',\n",
       " 'ACCESSIBLE',\n",
       " 'FOOD',\n",
       " 'SEPARATED',\n",
       " 'AND',\n",
       " 'PROTECTED',\n",
       " 'PROPER',\n",
       " 'HOT',\n",
       " 'HOLDING',\n",
       " 'TEMPERATURES',\n",
       " 'PROPER',\n",
       " 'DATE',\n",
       " 'MARKING',\n",
       " 'AND',\n",
       " 'DISPOSITION',\n",
       " 'THERMOMETERS',\n",
       " 'PROVIDED',\n",
       " 'ACCURATE',\n",
       " 'FOOD',\n",
       " 'PROPERLY',\n",
       " 'LABELED',\n",
       " 'ORIGINAL',\n",
       " 'CONTAINER',\n",
       " 'INSECTS',\n",
       " 'RODENTS',\n",
       " 'ANIMALS',\n",
       " 'NOT',\n",
       " 'PRESENT',\n",
       " 'PERSONAL',\n",
       " 'CLEANLINESS',\n",
       " 'WIPING',\n",
       " 'CLOTHS',\n",
       " 'PROPERLY',\n",
       " 'USED',\n",
       " 'STORED',\n",
       " 'WAREWASHING',\n",
       " 'FACILITIES',\n",
       " 'INSTALLED',\n",
       " 'MAINTAINED',\n",
       " 'USED',\n",
       " 'TEST',\n",
       " 'STRIPS',\n",
       " 'CONTACT',\n",
       " 'SURFACES',\n",
       " 'CLEAN',\n",
       " 'PHYSICAL',\n",
       " 'FACILITIES',\n",
       " 'INSTALLED',\n",
       " 'MAINTAINED',\n",
       " 'CLEAN',\n",
       " 'ADEQUATE',\n",
       " 'VENTILATION',\n",
       " 'LIGHTING',\n",
       " 'DESIGNATED',\n",
       " 'AREAS',\n",
       " 'USED',\n",
       " 'ALLERGEN',\n",
       " 'TRAINING',\n",
       " 'AS',\n",
       " 'REQUIRED',\n",
       " 'MANAGEMENT',\n",
       " 'FOOD',\n",
       " 'EMPLOYEE',\n",
       " 'AND',\n",
       " 'CONDITIONAL',\n",
       " 'KNOWLEDGE',\n",
       " 'RESPONSIBILITIES',\n",
       " 'REPORTING',\n",
       " 'PROCEDURES',\n",
       " 'FOR',\n",
       " 'RESPONDING',\n",
       " 'TO',\n",
       " 'VOMITING',\n",
       " 'AND',\n",
       " 'DIARRHEAL',\n",
       " 'EVENTS',\n",
       " 'ADEQUATE',\n",
       " 'HANDWASHING',\n",
       " 'SINKS',\n",
       " 'PROPERLY',\n",
       " 'SUPPLIED',\n",
       " 'AND',\n",
       " 'ACCESSIBLE',\n",
       " 'ADEQUATE',\n",
       " 'HANDWASHING',\n",
       " 'SINKS',\n",
       " 'PROPERLY',\n",
       " 'SUPPLIED',\n",
       " 'AND',\n",
       " 'ACCESSIBLE',\n",
       " 'PROPER',\n",
       " 'COOLING',\n",
       " 'METHODS',\n",
       " 'USED',\n",
       " 'ADEQUATE',\n",
       " 'EQUIPMENT',\n",
       " 'FOR',\n",
       " 'TEMPERATURE',\n",
       " 'CONTROL',\n",
       " 'INSECTS',\n",
       " 'RODENTS',\n",
       " 'ANIMALS',\n",
       " 'NOT',\n",
       " 'PRESENT',\n",
       " 'CONTAMINATION',\n",
       " 'PREVENTED',\n",
       " 'DURING',\n",
       " 'FOOD',\n",
       " 'PREPARATION',\n",
       " 'STORAGE',\n",
       " 'DISPLAY',\n",
       " 'FOOD',\n",
       " 'CONTACT',\n",
       " 'SURFACES',\n",
       " 'CLEANABLE',\n",
       " 'PROPERLY',\n",
       " 'DESIGNED',\n",
       " 'CONSTRUCTED',\n",
       " 'USED',\n",
       " 'PLUMBING',\n",
       " 'INSTALLED',\n",
       " 'PROPER',\n",
       " 'BACKFLOW',\n",
       " 'DEVICES',\n",
       " 'PLUMBING',\n",
       " 'INSTALLED',\n",
       " 'PROPER',\n",
       " 'BACKFLOW',\n",
       " 'DEVICES',\n",
       " 'TOILET',\n",
       " 'FACILITIES',\n",
       " 'PROPERLY',\n",
       " 'CONSTRUCTED',\n",
       " 'SUPPLIED',\n",
       " 'CLEANED',\n",
       " 'TOILET',\n",
       " 'FACILITIES',\n",
       " 'PROPERLY',\n",
       " 'CONSTRUCTED',\n",
       " 'SUPPLIED',\n",
       " 'CLEANED',\n",
       " 'PHYSICAL',\n",
       " 'FACILITIES',\n",
       " 'INSTALLED',\n",
       " 'MAINTAINED',\n",
       " 'CLEAN']"
      ]
     },
     "execution_count": 26,
     "metadata": {},
     "output_type": "execute_result"
    }
   ],
   "source": [
    "words"
   ]
  },
  {
   "cell_type": "code",
   "execution_count": 30,
   "metadata": {},
   "outputs": [
    {
     "data": {
      "text/plain": [
       "FreqDist({'AND': 119831, 'MAINTAINED': 76294, 'FOOD': 71184, 'EQUIPMENT': 63367, 'CONSTRUCTED': 61555, 'OF': 57806, 'CLEAN': 57779, 'PROPERLY': 56371, 'INSTALLED': 54391, 'CLEANING': 48220, ...})"
      ]
     },
     "execution_count": 30,
     "metadata": {},
     "output_type": "execute_result"
    }
   ],
   "source": [
    "fdist_cleaned = nltk.FreqDist(words)\n",
    "\n",
    "fdist_cleaned\n"
   ]
  },
  {
   "cell_type": "code",
   "execution_count": 46,
   "metadata": {},
   "outputs": [
    {
     "data": {
      "text/plain": [
       "[('AND', 119831),\n",
       " ('MAINTAINED', 76294),\n",
       " ('FOOD', 71184),\n",
       " ('EQUIPMENT', 63367),\n",
       " ('CONSTRUCTED', 61555),\n",
       " ('OF', 57806),\n",
       " ('CLEAN', 57779),\n",
       " ('PROPERLY', 56371),\n",
       " ('INSTALLED', 54391),\n",
       " ('CLEANING', 48220)]"
      ]
     },
     "execution_count": 46,
     "metadata": {},
     "output_type": "execute_result"
    }
   ],
   "source": [
    "##5\n",
    "#no5 = fdist.most_common(10)\n",
    "\n",
    "#c_word_list = [item for sublist in fdist_cleaned for item in sublist]\n",
    "\n",
    "CleanedTokens = Counter(fdist_cleaned).most_common(10)\n",
    "CleanedTokens"
   ]
  },
  {
   "cell_type": "code",
   "execution_count": 34,
   "metadata": {},
   "outputs": [],
   "source": [
    "porter = nltk.PorterStemmer()\n",
    "lancaster = nltk.LancasterStemmer()"
   ]
  },
  {
   "cell_type": "code",
   "execution_count": 35,
   "metadata": {},
   "outputs": [
    {
     "data": {
      "text/plain": [
       "str"
      ]
     },
     "execution_count": 35,
     "metadata": {},
     "output_type": "execute_result"
    }
   ],
   "source": [
    "words_l = (words[0:50])\n",
    "words_s = ', '.join(words_l)\n",
    "type (words_s)"
   ]
  },
  {
   "cell_type": "code",
   "execution_count": 68,
   "metadata": {},
   "outputs": [
    {
     "data": {
      "text/plain": [
       "'PERSON, IN, CHARGE, PRESENT, DEMONSTRATES, KNOWLEDGE, AND, PERFORMS, DUTIES, CITY, OF, CHICAGO, FOOD, SERVICE, SANITATION, CERTIFICATE, MANAGEMENT, FOOD, EMPLOYEE, AND, CONDITIONAL, KNOWLEDGE, RESPONSIBILITIES, REPORTING, PROCEDURES, FOR, RESPONDING, TO, VOMITING, AND, DIARRHEAL, EVENTS, NO, BARE, HAND, CONTACT, WITH, RTE, FOOD, OR, ALTERNATIVE, PROCEDURE, PROPERLY, ALLOWED, ADEQUATE, HANDWASHING, SINKS, PROPERLY, SUPPLIED, AND'"
      ]
     },
     "execution_count": 68,
     "metadata": {},
     "output_type": "execute_result"
    }
   ],
   "source": [
    "words_s"
   ]
  },
  {
   "cell_type": "code",
   "execution_count": 69,
   "metadata": {},
   "outputs": [
    {
     "name": "stdout",
     "output_type": "stream",
     "text": [
      "['person', 'IN', 'charg', 'present', 'demonstr', 'knowledg', 'and', 'perform', 'duti', 'citi', 'OF', 'chicago', 'food', 'servic', 'sanit', 'certif', 'manag', 'food', 'employe', 'and', 'condit', 'knowledg', 'respons', 'report', 'procedur', 'for', 'respond', 'TO', 'vomit', 'and', 'diarrheal', 'event', 'NO', 'bare', 'hand', 'contact', 'with', 'rte', 'food', 'OR', 'altern', 'procedur', 'properli', 'allow', 'adequ', 'handwash', 'sink', 'properli', 'suppli', 'and']\n"
     ]
    }
   ],
   "source": [
    "print([porter.stem(t) for t in words[0:50]])"
   ]
  },
  {
   "cell_type": "code",
   "execution_count": 36,
   "metadata": {},
   "outputs": [
    {
     "data": {
      "text/plain": [
       "[('clean', 129356),\n",
       " ('and', 119831),\n",
       " ('maintain', 79842),\n",
       " ('food', 76438),\n",
       " ('equip', 63367),\n",
       " ('construct', 61555),\n",
       " ('OF', 57806),\n",
       " ('properli', 56371),\n",
       " ('instal', 54391),\n",
       " ('surfac', 41634)]"
      ]
     },
     "execution_count": 36,
     "metadata": {},
     "output_type": "execute_result"
    }
   ],
   "source": [
    "Porter =[porter.stem(t) for t in words[0:]]\n",
    "Porter_tokens = nltk.FreqDist(Porter)\n",
    "\n"
   ]
  },
  {
   "cell_type": "code",
   "execution_count": 57,
   "metadata": {},
   "outputs": [
    {
     "data": {
      "text/plain": [
       "[('clean', 129356),\n",
       " ('and', 119831),\n",
       " ('maintain', 79842),\n",
       " ('food', 76438),\n",
       " ('equip', 63367),\n",
       " ('construct', 61555),\n",
       " ('OF', 57806),\n",
       " ('properli', 56371),\n",
       " ('instal', 54391),\n",
       " ('surfac', 41634)]"
      ]
     },
     "execution_count": 57,
     "metadata": {},
     "output_type": "execute_result"
    }
   ],
   "source": [
    "PorterTokens = Porter_tokens.most_common(10)\n",
    "PorterTokens"
   ]
  },
  {
   "cell_type": "code",
   "execution_count": 58,
   "metadata": {},
   "outputs": [],
   "source": [
    "Lancaster = [lancaster.stem(t) for t in words[0:]]\n",
    "lancaster_tokens = nltk.FreqDist(Lancaster)\n"
   ]
  },
  {
   "cell_type": "code",
   "execution_count": 48,
   "metadata": {},
   "outputs": [
    {
     "data": {
      "text/plain": [
       "[('cle', 133920),\n",
       " ('and', 119831),\n",
       " ('maintain', 79842),\n",
       " ('food', 76438),\n",
       " ('prop', 68613),\n",
       " ('equip', 63367),\n",
       " ('construct', 61555),\n",
       " ('of', 57806),\n",
       " ('instal', 54391),\n",
       " ('surfac', 41634)]"
      ]
     },
     "execution_count": 48,
     "metadata": {},
     "output_type": "execute_result"
    }
   ],
   "source": [
    "LancasterTokens = lancaster_tokens.most_common(10)\n",
    "LancasterTokens"
   ]
  },
  {
   "cell_type": "code",
   "execution_count": 72,
   "metadata": {},
   "outputs": [
    {
     "name": "stdout",
     "output_type": "stream",
     "text": [
      "['person', 'in', 'charg', 'pres', 'demonst', 'knowledg', 'and', 'perform', 'duty', 'city', 'of', 'chicago', 'food', 'serv', 'sanit', 'cert', 'man', 'food', 'employ', 'and', 'condit', 'knowledg', 'respons', 'report', 'proc', 'for', 'respond', 'to', 'vomit', 'and', 'diarrh', 'ev', 'no', 'bar', 'hand', 'contact', 'with', 'rte', 'food', 'or', 'altern', 'proc', 'prop', 'allow', 'adequ', 'handwash', 'sink', 'prop', 'supply', 'and']\n"
     ]
    }
   ],
   "source": [
    "print([lancaster.stem(t) for t in words[0:50]])"
   ]
  },
  {
   "cell_type": "code",
   "execution_count": 73,
   "metadata": {},
   "outputs": [
    {
     "name": "stderr",
     "output_type": "stream",
     "text": [
      "[nltk_data] Downloading package wordnet to\n",
      "[nltk_data]     C:\\Users\\manya\\AppData\\Roaming\\nltk_data...\n",
      "[nltk_data]   Package wordnet is already up-to-date!\n"
     ]
    }
   ],
   "source": [
    "nltk.download('wordnet')\n"
   ]
  },
  {
   "cell_type": "code",
   "execution_count": 40,
   "metadata": {},
   "outputs": [],
   "source": [
    "wnl = nltk.WordNetLemmatizer()"
   ]
  },
  {
   "cell_type": "code",
   "execution_count": 74,
   "metadata": {},
   "outputs": [
    {
     "name": "stdout",
     "output_type": "stream",
     "text": [
      "['PERSON', 'IN', 'CHARGE', 'PRESENT', 'DEMONSTRATES', 'KNOWLEDGE', 'AND', 'PERFORMS', 'DUTIES', 'CITY', 'OF', 'CHICAGO', 'FOOD', 'SERVICE', 'SANITATION', 'CERTIFICATE', 'MANAGEMENT', 'FOOD', 'EMPLOYEE', 'AND', 'CONDITIONAL', 'KNOWLEDGE', 'RESPONSIBILITIES', 'REPORTING', 'PROCEDURES', 'FOR', 'RESPONDING', 'TO', 'VOMITING', 'AND', 'DIARRHEAL', 'EVENTS', 'NO', 'BARE', 'HAND', 'CONTACT', 'WITH', 'RTE', 'FOOD', 'OR', 'ALTERNATIVE', 'PROCEDURE', 'PROPERLY', 'ALLOWED', 'ADEQUATE', 'HANDWASHING', 'SINKS', 'PROPERLY', 'SUPPLIED', 'AND']\n"
     ]
    }
   ],
   "source": [
    "print([wnl.lemmatize(t) for t in words[0:50]])"
   ]
  },
  {
   "cell_type": "code",
   "execution_count": 43,
   "metadata": {},
   "outputs": [],
   "source": [
    "Lemmatize =[wnl.lemmatize(t) for t in words[0:]]\n",
    "Lemmatize_tokens = nltk.FreqDist(Lemmatize)\n",
    "\n"
   ]
  },
  {
   "cell_type": "code",
   "execution_count": 49,
   "metadata": {},
   "outputs": [
    {
     "data": {
      "text/plain": [
       "[('AND', 119831),\n",
       " ('MAINTAINED', 76294),\n",
       " ('FOOD', 71184),\n",
       " ('EQUIPMENT', 63367),\n",
       " ('CONSTRUCTED', 61555),\n",
       " ('OF', 57806),\n",
       " ('CLEAN', 57779),\n",
       " ('PROPERLY', 56371),\n",
       " ('INSTALLED', 54391),\n",
       " ('CLEANING', 48220)]"
      ]
     },
     "execution_count": 49,
     "metadata": {},
     "output_type": "execute_result"
    }
   ],
   "source": [
    "LemmatizeTokens = Lemmatize_tokens.most_common(10)\n",
    "LemmatizeTokens "
   ]
  },
  {
   "cell_type": "code",
   "execution_count": 59,
   "metadata": {},
   "outputs": [
    {
     "name": "stdout",
     "output_type": "stream",
     "text": [
      "RawTokens: [('[', 252655), (']', 252655), (\"'\", 252286), ('-', 252286), (',', 168300), ('AND', 119831), (':', 86802), ('MAINTAINED', 76294), ('FOOD', 71184), ('EQUIPMENT', 63367)]\n",
      "CleanedTokens: [('AND', 119831), ('MAINTAINED', 76294), ('FOOD', 71184), ('EQUIPMENT', 63367), ('CONSTRUCTED', 61555), ('OF', 57806), ('CLEAN', 57779), ('PROPERLY', 56371), ('INSTALLED', 54391), ('CLEANING', 48220)]\n",
      "PorterTokens: [('clean', 129356), ('and', 119831), ('maintain', 79842), ('food', 76438), ('equip', 63367), ('construct', 61555), ('OF', 57806), ('properli', 56371), ('instal', 54391), ('surfac', 41634)]\n",
      "LancasterTokens: [('cle', 133920), ('and', 119831), ('maintain', 79842), ('food', 76438), ('prop', 68613), ('equip', 63367), ('construct', 61555), ('of', 57806), ('instal', 54391), ('surfac', 41634)]\n",
      "LemmatizeTokens: [('AND', 119831), ('MAINTAINED', 76294), ('FOOD', 71184), ('EQUIPMENT', 63367), ('CONSTRUCTED', 61555), ('OF', 57806), ('CLEAN', 57779), ('PROPERLY', 56371), ('INSTALLED', 54391), ('CLEANING', 48220)]\n"
     ]
    }
   ],
   "source": [
    "print ('RawTokens:', RawTokens)\n",
    "\n",
    "print ('CleanedTokens:', CleanedTokens)\n",
    "\n",
    "print ('PorterTokens:', PorterTokens)\n",
    "\n",
    "print ('LancasterTokens:', LancasterTokens)\n",
    "\n",
    "print ('LemmatizeTokens:', LemmatizeTokens)"
   ]
  },
  {
   "cell_type": "markdown",
   "metadata": {},
   "source": [
    "It looks like the best results were given either by a basic cleaning of the data or from the Lemmatizer. The other two methods, Lancaster and Porter, cut off too much of each token, while not really producing results that would be useful for increasing the likelihood of identifying alternate forms of common words."
   ]
  },
  {
   "cell_type": "code",
   "execution_count": null,
   "metadata": {},
   "outputs": [],
   "source": []
  }
 ],
 "metadata": {
  "kernelspec": {
   "display_name": "Python 3",
   "language": "python",
   "name": "python3"
  },
  "language_info": {
   "codemirror_mode": {
    "name": "ipython",
    "version": 3
   },
   "file_extension": ".py",
   "mimetype": "text/x-python",
   "name": "python",
   "nbconvert_exporter": "python",
   "pygments_lexer": "ipython3",
   "version": "3.7.1"
  }
 },
 "nbformat": 4,
 "nbformat_minor": 2
}
